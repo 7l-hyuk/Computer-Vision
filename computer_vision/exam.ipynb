{
 "cells": [
  {
   "cell_type": "code",
   "execution_count": 14,
   "metadata": {},
   "outputs": [
    {
     "name": "stdout",
     "output_type": "stream",
     "text": [
      "HelloWorld!!!!!!!!!\n"
     ]
    }
   ],
   "source": [
    "s = 2\n",
    "my_string = \"He11oWor1d!!!!!!!!!\"\n",
    "overwrite_string = \"lloWorl\"\n",
    "\n",
    "print(my_string[:s] + overwrite_string + my_string[2+len(overwrite_string):])"
   ]
  },
  {
   "cell_type": "code",
   "execution_count": 23,
   "metadata": {},
   "outputs": [
    {
     "data": {
      "text/plain": [
       "'11oWor1'"
      ]
     },
     "execution_count": 23,
     "metadata": {},
     "output_type": "execute_result"
    }
   ],
   "source": [
    "my_string[s:s+len(overwrite_string)]"
   ]
  },
  {
   "cell_type": "code",
   "execution_count": 24,
   "metadata": {},
   "outputs": [
    {
     "data": {
      "text/plain": [
       "'HelloWorld!!!!!!!!!'"
      ]
     },
     "execution_count": 24,
     "metadata": {},
     "output_type": "execute_result"
    }
   ],
   "source": [
    "my_string.replace(my_string[s:s+len(overwrite_string)], overwrite_string)"
   ]
  },
  {
   "cell_type": "code",
   "execution_count": 16,
   "metadata": {},
   "outputs": [
    {
     "name": "stdout",
     "output_type": "stream",
     "text": [
      "He\n",
      "lloWorl\n",
      "d!!!!!!!!!\n"
     ]
    }
   ],
   "source": [
    "print(my_string[:s])\n",
    "print(overwrite_string)\n",
    "print(my_string[s+len(overwrite_string):])"
   ]
  }
 ],
 "metadata": {
  "kernelspec": {
   "display_name": "computer-vision-Y4DzbFt8-py3.11",
   "language": "python",
   "name": "python3"
  },
  "language_info": {
   "codemirror_mode": {
    "name": "ipython",
    "version": 3
   },
   "file_extension": ".py",
   "mimetype": "text/x-python",
   "name": "python",
   "nbconvert_exporter": "python",
   "pygments_lexer": "ipython3",
   "version": "3.11.9"
  }
 },
 "nbformat": 4,
 "nbformat_minor": 2
}
